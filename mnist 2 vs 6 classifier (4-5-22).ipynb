{
 "cells": [
  {
   "cell_type": "code",
   "execution_count": 2,
   "id": "83b12567",
   "metadata": {
    "scrolled": true
   },
   "outputs": [],
   "source": [
    "from sklearn.datasets import fetch_openml\n",
    "mnist = fetch_openml('mnist_784', version=1)\n",
    "\n",
    "#importing fetch_openml, making mnist variable\n",
    "\n"
   ]
  },
  {
   "cell_type": "code",
   "execution_count": 3,
   "id": "d0f456b4",
   "metadata": {},
   "outputs": [
    {
     "data": {
      "text/plain": [
       "dict_keys(['data', 'target', 'frame', 'categories', 'feature_names', 'target_names', 'DESCR', 'details', 'url'])"
      ]
     },
     "execution_count": 3,
     "metadata": {},
     "output_type": "execute_result"
    }
   ],
   "source": [
    "mnist.keys()\n",
    "#importing fetch_openml, making mnist variable\n",
    "\n",
    "#do not need to run this code everytime"
   ]
  },
  {
   "cell_type": "markdown",
   "id": "9acbdd18",
   "metadata": {},
   "source": [
    "make a dataset of images of numbers\n",
    "make computer identify is image = 2 or 6\n",
    "get rid of all other numbers\n",
    "make train, validation, and test set\n",
    "make a model, and use it\n",
    "find out error value, and fix if not low\n",
    "print true if 2 or 6 and false if any other number"
   ]
  },
  {
   "cell_type": "code",
   "execution_count": 4,
   "id": "58d02738",
   "metadata": {},
   "outputs": [
    {
     "data": {
      "text/plain": [
       "sklearn.utils.Bunch"
      ]
     },
     "execution_count": 4,
     "metadata": {},
     "output_type": "execute_result"
    }
   ],
   "source": [
    "type(mnist)\n",
    "#do not need to run this code everytime"
   ]
  },
  {
   "cell_type": "code",
   "execution_count": 5,
   "id": "5a9cb043",
   "metadata": {},
   "outputs": [],
   "source": [
    "X,y = mnist[\"data\"], mnist[\"target\"]\n",
    "\n"
   ]
  },
  {
   "cell_type": "code",
   "execution_count": 6,
   "id": "e8339479",
   "metadata": {},
   "outputs": [
    {
     "data": {
      "text/plain": [
       "(70000, 784)"
      ]
     },
     "execution_count": 6,
     "metadata": {},
     "output_type": "execute_result"
    }
   ],
   "source": [
    "X.shape #seeing what size x is\n",
    "#do not need to run"
   ]
  },
  {
   "cell_type": "code",
   "execution_count": 7,
   "id": "98598952",
   "metadata": {},
   "outputs": [
    {
     "data": {
      "text/plain": [
       "pandas.core.frame.DataFrame"
      ]
     },
     "execution_count": 7,
     "metadata": {},
     "output_type": "execute_result"
    }
   ],
   "source": [
    "type(X)\n",
    "#what type of dataframe x is\n",
    "#dont run"
   ]
  },
  {
   "cell_type": "code",
   "execution_count": 8,
   "id": "86bb4e1b",
   "metadata": {},
   "outputs": [
    {
     "data": {
      "text/plain": [
       "pandas.core.series.Series"
      ]
     },
     "execution_count": 8,
     "metadata": {},
     "output_type": "execute_result"
    }
   ],
   "source": [
    "type(y) #what type of dataframe y is\n",
    "#dont run"
   ]
  },
  {
   "cell_type": "code",
   "execution_count": 9,
   "id": "bc197828",
   "metadata": {},
   "outputs": [
    {
     "name": "stdout",
     "output_type": "stream",
     "text": [
      "       pixel1  pixel2  pixel3  pixel4  pixel5  pixel6  pixel7  pixel8  pixel9  \\\n",
      "0         0.0     0.0     0.0     0.0     0.0     0.0     0.0     0.0     0.0   \n",
      "1         0.0     0.0     0.0     0.0     0.0     0.0     0.0     0.0     0.0   \n",
      "2         0.0     0.0     0.0     0.0     0.0     0.0     0.0     0.0     0.0   \n",
      "3         0.0     0.0     0.0     0.0     0.0     0.0     0.0     0.0     0.0   \n",
      "4         0.0     0.0     0.0     0.0     0.0     0.0     0.0     0.0     0.0   \n",
      "...       ...     ...     ...     ...     ...     ...     ...     ...     ...   \n",
      "69995     0.0     0.0     0.0     0.0     0.0     0.0     0.0     0.0     0.0   \n",
      "69996     0.0     0.0     0.0     0.0     0.0     0.0     0.0     0.0     0.0   \n",
      "69997     0.0     0.0     0.0     0.0     0.0     0.0     0.0     0.0     0.0   \n",
      "69998     0.0     0.0     0.0     0.0     0.0     0.0     0.0     0.0     0.0   \n",
      "69999     0.0     0.0     0.0     0.0     0.0     0.0     0.0     0.0     0.0   \n",
      "\n",
      "       pixel10  ...  pixel775  pixel776  pixel777  pixel778  pixel779  \\\n",
      "0          0.0  ...       0.0       0.0       0.0       0.0       0.0   \n",
      "1          0.0  ...       0.0       0.0       0.0       0.0       0.0   \n",
      "2          0.0  ...       0.0       0.0       0.0       0.0       0.0   \n",
      "3          0.0  ...       0.0       0.0       0.0       0.0       0.0   \n",
      "4          0.0  ...       0.0       0.0       0.0       0.0       0.0   \n",
      "...        ...  ...       ...       ...       ...       ...       ...   \n",
      "69995      0.0  ...       0.0       0.0       0.0       0.0       0.0   \n",
      "69996      0.0  ...       0.0       0.0       0.0       0.0       0.0   \n",
      "69997      0.0  ...       0.0       0.0       0.0       0.0       0.0   \n",
      "69998      0.0  ...       0.0       0.0       0.0       0.0       0.0   \n",
      "69999      0.0  ...       0.0       0.0       0.0       0.0       0.0   \n",
      "\n",
      "       pixel780  pixel781  pixel782  pixel783  pixel784  \n",
      "0           0.0       0.0       0.0       0.0       0.0  \n",
      "1           0.0       0.0       0.0       0.0       0.0  \n",
      "2           0.0       0.0       0.0       0.0       0.0  \n",
      "3           0.0       0.0       0.0       0.0       0.0  \n",
      "4           0.0       0.0       0.0       0.0       0.0  \n",
      "...         ...       ...       ...       ...       ...  \n",
      "69995       0.0       0.0       0.0       0.0       0.0  \n",
      "69996       0.0       0.0       0.0       0.0       0.0  \n",
      "69997       0.0       0.0       0.0       0.0       0.0  \n",
      "69998       0.0       0.0       0.0       0.0       0.0  \n",
      "69999       0.0       0.0       0.0       0.0       0.0  \n",
      "\n",
      "[70000 rows x 784 columns]\n"
     ]
    }
   ],
   "source": [
    "print(X) \n",
    "#all of the pixels -- what color every pixel is\n",
    "#dont need to run"
   ]
  },
  {
   "cell_type": "code",
   "execution_count": 10,
   "id": "efca200d",
   "metadata": {},
   "outputs": [
    {
     "name": "stdout",
     "output_type": "stream",
     "text": [
      "0        5\n",
      "1        0\n",
      "2        4\n",
      "3        1\n",
      "4        9\n",
      "        ..\n",
      "69995    2\n",
      "69996    3\n",
      "69997    4\n",
      "69998    5\n",
      "69999    6\n",
      "Name: class, Length: 70000, dtype: category\n",
      "Categories (10, object): ['0', '1', '2', '3', ..., '6', '7', '8', '9']\n"
     ]
    }
   ],
   "source": [
    "print(y)\n",
    "#dont need to run\n",
    "#says what the number of the picture is"
   ]
  },
  {
   "cell_type": "code",
   "execution_count": 11,
   "id": "f0f83902",
   "metadata": {},
   "outputs": [
    {
     "name": "stdout",
     "output_type": "stream",
     "text": [
      "Index(['pixel1', 'pixel2', 'pixel3', 'pixel4', 'pixel5', 'pixel6', 'pixel7',\n",
      "       'pixel8', 'pixel9', 'pixel10',\n",
      "       ...\n",
      "       'pixel775', 'pixel776', 'pixel777', 'pixel778', 'pixel779', 'pixel780',\n",
      "       'pixel781', 'pixel782', 'pixel783', 'pixel784'],\n",
      "      dtype='object', length=784)\n"
     ]
    }
   ],
   "source": [
    "print(X.columns) #shows the columns in x\n",
    "#dont need to run"
   ]
  },
  {
   "cell_type": "code",
   "execution_count": 12,
   "id": "222a99c5",
   "metadata": {},
   "outputs": [
    {
     "name": "stdout",
     "output_type": "stream",
     "text": [
      "Index(['pixel1', 'pixel2', 'pixel3', 'pixel4', 'pixel5', 'pixel6', 'pixel7',\n",
      "       'pixel8', 'pixel9', 'pixel10',\n",
      "       ...\n",
      "       'pixel776', 'pixel777', 'pixel778', 'pixel779', 'pixel780', 'pixel781',\n",
      "       'pixel782', 'pixel783', 'pixel784', 'yanswer'],\n",
      "      dtype='object', length=785)\n"
     ]
    }
   ],
   "source": [
    "#twos = df[df['y'].astype(str).str.contains('2')]\n",
    "\n",
    "yanswer = [y]\n",
    "\n",
    "X[\"yanswer\"] = y\n",
    "\n",
    "X\n",
    "print(X.columns) "
   ]
  },
  {
   "cell_type": "code",
   "execution_count": 13,
   "id": "bf9c9e95",
   "metadata": {},
   "outputs": [
    {
     "name": "stdout",
     "output_type": "stream",
     "text": [
      "pixel1      0.0\n",
      "pixel2      0.0\n",
      "pixel3      0.0\n",
      "pixel4      0.0\n",
      "pixel5      0.0\n",
      "           ... \n",
      "pixel781    0.0\n",
      "pixel782    0.0\n",
      "pixel783    0.0\n",
      "pixel784    0.0\n",
      "yanswer       2\n",
      "Name: 9625, Length: 785, dtype: object\n",
      "pixel1      0.0\n",
      "pixel2      0.0\n",
      "pixel3      0.0\n",
      "pixel4      0.0\n",
      "pixel5      0.0\n",
      "           ... \n",
      "pixel781    0.0\n",
      "pixel782    0.0\n",
      "pixel783    0.0\n",
      "pixel784    0.0\n",
      "yanswer       6\n",
      "Name: 9338, Length: 785, dtype: object\n"
     ]
    }
   ],
   "source": [
    "sixes = X[X['yanswer'].astype(str).str.contains('6')]\n",
    "twos = X[X['yanswer'].astype(str).str.contains('2')]\n",
    "X.iloc[2]\n",
    "print(twos.iloc[948])\n",
    "print(sixes.iloc[948])\n",
    "#print(two_and_six)"
   ]
  },
  {
   "cell_type": "code",
   "execution_count": 14,
   "id": "a6132982",
   "metadata": {},
   "outputs": [
    {
     "name": "stdout",
     "output_type": "stream",
     "text": [
      "pixel1      0.0\n",
      "pixel2      0.0\n",
      "pixel3      0.0\n",
      "pixel4      0.0\n",
      "pixel5      0.0\n",
      "           ... \n",
      "pixel781    0.0\n",
      "pixel782    0.0\n",
      "pixel783    0.0\n",
      "pixel784    0.0\n",
      "yanswer       2\n",
      "Name: 9625, Length: 785, dtype: object\n",
      "pixel1      0.0\n",
      "pixel2      0.0\n",
      "pixel3      0.0\n",
      "pixel4      0.0\n",
      "pixel5      0.0\n",
      "           ... \n",
      "pixel781    0.0\n",
      "pixel782    0.0\n",
      "pixel783    0.0\n",
      "pixel784    0.0\n",
      "yanswer       6\n",
      "Name: 9338, Length: 785, dtype: object\n"
     ]
    }
   ],
   "source": [
    "X.iloc[2]\n",
    "print(twos.iloc[948])\n",
    "print(sixes.iloc[948])\n",
    "#print(two_and_six)\n",
    "#dont run"
   ]
  },
  {
   "cell_type": "code",
   "execution_count": 15,
   "id": "2482cc6e",
   "metadata": {},
   "outputs": [],
   "source": [
    "import pandas as pd\n",
    "combination = pd.concat([twos, sixes], axis=0)"
   ]
  },
  {
   "cell_type": "code",
   "execution_count": 16,
   "id": "0f927ca5",
   "metadata": {},
   "outputs": [
    {
     "name": "stdout",
     "output_type": "stream",
     "text": [
      "twos        pixel1  pixel2  pixel3  pixel4  pixel5  pixel6  pixel7  pixel8  pixel9  \\\n",
      "5         0.0     0.0     0.0     0.0     0.0     0.0     0.0     0.0     0.0   \n",
      "16        0.0     0.0     0.0     0.0     0.0     0.0     0.0     0.0     0.0   \n",
      "25        0.0     0.0     0.0     0.0     0.0     0.0     0.0     0.0     0.0   \n",
      "28        0.0     0.0     0.0     0.0     0.0     0.0     0.0     0.0     0.0   \n",
      "76        0.0     0.0     0.0     0.0     0.0     0.0     0.0     0.0     0.0   \n",
      "...       ...     ...     ...     ...     ...     ...     ...     ...     ...   \n",
      "69954     0.0     0.0     0.0     0.0     0.0     0.0     0.0     0.0     0.0   \n",
      "69971     0.0     0.0     0.0     0.0     0.0     0.0     0.0     0.0     0.0   \n",
      "69980     0.0     0.0     0.0     0.0     0.0     0.0     0.0     0.0     0.0   \n",
      "69985     0.0     0.0     0.0     0.0     0.0     0.0     0.0     0.0     0.0   \n",
      "69995     0.0     0.0     0.0     0.0     0.0     0.0     0.0     0.0     0.0   \n",
      "\n",
      "       pixel10  ...  pixel776  pixel777  pixel778  pixel779  pixel780  \\\n",
      "5          0.0  ...       0.0       0.0       0.0       0.0       0.0   \n",
      "16         0.0  ...       0.0       0.0       0.0       0.0       0.0   \n",
      "25         0.0  ...       0.0       0.0       0.0       0.0       0.0   \n",
      "28         0.0  ...       0.0       0.0       0.0       0.0       0.0   \n",
      "76         0.0  ...       0.0       0.0       0.0       0.0       0.0   \n",
      "...        ...  ...       ...       ...       ...       ...       ...   \n",
      "69954      0.0  ...       0.0       0.0       0.0       0.0       0.0   \n",
      "69971      0.0  ...       0.0       0.0       0.0       0.0       0.0   \n",
      "69980      0.0  ...       0.0       0.0       0.0       0.0       0.0   \n",
      "69985      0.0  ...       0.0       0.0       0.0       0.0       0.0   \n",
      "69995      0.0  ...       0.0       0.0       0.0       0.0       0.0   \n",
      "\n",
      "       pixel781  pixel782  pixel783  pixel784  yanswer  \n",
      "5           0.0       0.0       0.0       0.0        2  \n",
      "16          0.0       0.0       0.0       0.0        2  \n",
      "25          0.0       0.0       0.0       0.0        2  \n",
      "28          0.0       0.0       0.0       0.0        2  \n",
      "76          0.0       0.0       0.0       0.0        2  \n",
      "...         ...       ...       ...       ...      ...  \n",
      "69954       0.0       0.0       0.0       0.0        2  \n",
      "69971       0.0       0.0       0.0       0.0        2  \n",
      "69980       0.0       0.0       0.0       0.0        2  \n",
      "69985       0.0       0.0       0.0       0.0        2  \n",
      "69995       0.0       0.0       0.0       0.0        2  \n",
      "\n",
      "[6990 rows x 785 columns]\n",
      "sixes        pixel1  pixel2  pixel3  pixel4  pixel5  pixel6  pixel7  pixel8  pixel9  \\\n",
      "13        0.0     0.0     0.0     0.0     0.0     0.0     0.0     0.0     0.0   \n",
      "18        0.0     0.0     0.0     0.0     0.0     0.0     0.0     0.0     0.0   \n",
      "32        0.0     0.0     0.0     0.0     0.0     0.0     0.0     0.0     0.0   \n",
      "36        0.0     0.0     0.0     0.0     0.0     0.0     0.0     0.0     0.0   \n",
      "39        0.0     0.0     0.0     0.0     0.0     0.0     0.0     0.0     0.0   \n",
      "...       ...     ...     ...     ...     ...     ...     ...     ...     ...   \n",
      "69966     0.0     0.0     0.0     0.0     0.0     0.0     0.0     0.0     0.0   \n",
      "69976     0.0     0.0     0.0     0.0     0.0     0.0     0.0     0.0     0.0   \n",
      "69981     0.0     0.0     0.0     0.0     0.0     0.0     0.0     0.0     0.0   \n",
      "69989     0.0     0.0     0.0     0.0     0.0     0.0     0.0     0.0     0.0   \n",
      "69999     0.0     0.0     0.0     0.0     0.0     0.0     0.0     0.0     0.0   \n",
      "\n",
      "       pixel10  ...  pixel776  pixel777  pixel778  pixel779  pixel780  \\\n",
      "13         0.0  ...       0.0       0.0       0.0       0.0       0.0   \n",
      "18         0.0  ...       0.0       0.0       0.0       0.0       0.0   \n",
      "32         0.0  ...       0.0       0.0       0.0       0.0       0.0   \n",
      "36         0.0  ...       0.0       0.0       0.0       0.0       0.0   \n",
      "39         0.0  ...       0.0       0.0       0.0       0.0       0.0   \n",
      "...        ...  ...       ...       ...       ...       ...       ...   \n",
      "69966      0.0  ...       0.0       0.0       0.0       0.0       0.0   \n",
      "69976      0.0  ...       0.0       0.0       0.0       0.0       0.0   \n",
      "69981      0.0  ...       0.0       0.0       0.0       0.0       0.0   \n",
      "69989      0.0  ...       0.0       0.0       0.0       0.0       0.0   \n",
      "69999      0.0  ...       0.0       0.0       0.0       0.0       0.0   \n",
      "\n",
      "       pixel781  pixel782  pixel783  pixel784  yanswer  \n",
      "13          0.0       0.0       0.0       0.0        6  \n",
      "18          0.0       0.0       0.0       0.0        6  \n",
      "32          0.0       0.0       0.0       0.0        6  \n",
      "36          0.0       0.0       0.0       0.0        6  \n",
      "39          0.0       0.0       0.0       0.0        6  \n",
      "...         ...       ...       ...       ...      ...  \n",
      "69966       0.0       0.0       0.0       0.0        6  \n",
      "69976       0.0       0.0       0.0       0.0        6  \n",
      "69981       0.0       0.0       0.0       0.0        6  \n",
      "69989       0.0       0.0       0.0       0.0        6  \n",
      "69999       0.0       0.0       0.0       0.0        6  \n",
      "\n",
      "[6876 rows x 785 columns]\n",
      "combination        pixel1  pixel2  pixel3  pixel4  pixel5  pixel6  pixel7  pixel8  pixel9  \\\n",
      "5         0.0     0.0     0.0     0.0     0.0     0.0     0.0     0.0     0.0   \n",
      "16        0.0     0.0     0.0     0.0     0.0     0.0     0.0     0.0     0.0   \n",
      "25        0.0     0.0     0.0     0.0     0.0     0.0     0.0     0.0     0.0   \n",
      "28        0.0     0.0     0.0     0.0     0.0     0.0     0.0     0.0     0.0   \n",
      "76        0.0     0.0     0.0     0.0     0.0     0.0     0.0     0.0     0.0   \n",
      "...       ...     ...     ...     ...     ...     ...     ...     ...     ...   \n",
      "69966     0.0     0.0     0.0     0.0     0.0     0.0     0.0     0.0     0.0   \n",
      "69976     0.0     0.0     0.0     0.0     0.0     0.0     0.0     0.0     0.0   \n",
      "69981     0.0     0.0     0.0     0.0     0.0     0.0     0.0     0.0     0.0   \n",
      "69989     0.0     0.0     0.0     0.0     0.0     0.0     0.0     0.0     0.0   \n",
      "69999     0.0     0.0     0.0     0.0     0.0     0.0     0.0     0.0     0.0   \n",
      "\n",
      "       pixel10  ...  pixel776  pixel777  pixel778  pixel779  pixel780  \\\n",
      "5          0.0  ...       0.0       0.0       0.0       0.0       0.0   \n",
      "16         0.0  ...       0.0       0.0       0.0       0.0       0.0   \n",
      "25         0.0  ...       0.0       0.0       0.0       0.0       0.0   \n",
      "28         0.0  ...       0.0       0.0       0.0       0.0       0.0   \n",
      "76         0.0  ...       0.0       0.0       0.0       0.0       0.0   \n",
      "...        ...  ...       ...       ...       ...       ...       ...   \n",
      "69966      0.0  ...       0.0       0.0       0.0       0.0       0.0   \n",
      "69976      0.0  ...       0.0       0.0       0.0       0.0       0.0   \n",
      "69981      0.0  ...       0.0       0.0       0.0       0.0       0.0   \n",
      "69989      0.0  ...       0.0       0.0       0.0       0.0       0.0   \n",
      "69999      0.0  ...       0.0       0.0       0.0       0.0       0.0   \n",
      "\n",
      "       pixel781  pixel782  pixel783  pixel784  yanswer  \n",
      "5           0.0       0.0       0.0       0.0        2  \n",
      "16          0.0       0.0       0.0       0.0        2  \n",
      "25          0.0       0.0       0.0       0.0        2  \n",
      "28          0.0       0.0       0.0       0.0        2  \n",
      "76          0.0       0.0       0.0       0.0        2  \n",
      "...         ...       ...       ...       ...      ...  \n",
      "69966       0.0       0.0       0.0       0.0        6  \n",
      "69976       0.0       0.0       0.0       0.0        6  \n",
      "69981       0.0       0.0       0.0       0.0        6  \n",
      "69989       0.0       0.0       0.0       0.0        6  \n",
      "69999       0.0       0.0       0.0       0.0        6  \n",
      "\n",
      "[13866 rows x 785 columns]\n"
     ]
    }
   ],
   "source": [
    "print(\"twos\", twos)\n",
    "print(\"sixes\", sixes)\n",
    "print(\"combination\", combination)"
   ]
  },
  {
   "cell_type": "code",
   "execution_count": 17,
   "id": "e2fbafd6",
   "metadata": {},
   "outputs": [],
   "source": [
    "from sklearn.model_selection import train_test_split\n",
    "train_set, test_set = train_test_split(combination, test_size = 0.2)"
   ]
  },
  {
   "cell_type": "code",
   "execution_count": 18,
   "id": "8df2329d",
   "metadata": {},
   "outputs": [
    {
     "name": "stdout",
     "output_type": "stream",
     "text": [
      "       pixel1  pixel2  pixel3  pixel4  pixel5  pixel6  pixel7  pixel8  pixel9  \\\n",
      "20257     0.0     0.0     0.0     0.0     0.0     0.0     0.0     0.0     0.0   \n",
      "48332     0.0     0.0     0.0     0.0     0.0     0.0     0.0     0.0     0.0   \n",
      "2085      0.0     0.0     0.0     0.0     0.0     0.0     0.0     0.0     0.0   \n",
      "13406     0.0     0.0     0.0     0.0     0.0     0.0     0.0     0.0     0.0   \n",
      "39440     0.0     0.0     0.0     0.0     0.0     0.0     0.0     0.0     0.0   \n",
      "...       ...     ...     ...     ...     ...     ...     ...     ...     ...   \n",
      "658       0.0     0.0     0.0     0.0     0.0     0.0     0.0     0.0     0.0   \n",
      "4980      0.0     0.0     0.0     0.0     0.0     0.0     0.0     0.0     0.0   \n",
      "6445      0.0     0.0     0.0     0.0     0.0     0.0     0.0     0.0     0.0   \n",
      "42327     0.0     0.0     0.0     0.0     0.0     0.0     0.0     0.0     0.0   \n",
      "47710     0.0     0.0     0.0     0.0     0.0     0.0     0.0     0.0     0.0   \n",
      "\n",
      "       pixel10  ...  pixel776  pixel777  pixel778  pixel779  pixel780  \\\n",
      "20257      0.0  ...       0.0       0.0       0.0       0.0       0.0   \n",
      "48332      0.0  ...       0.0       0.0       0.0       0.0       0.0   \n",
      "2085       0.0  ...       0.0       0.0       0.0       0.0       0.0   \n",
      "13406      0.0  ...       0.0       0.0       0.0       0.0       0.0   \n",
      "39440      0.0  ...       0.0       0.0       0.0       0.0       0.0   \n",
      "...        ...  ...       ...       ...       ...       ...       ...   \n",
      "658        0.0  ...       0.0       0.0       0.0       0.0       0.0   \n",
      "4980       0.0  ...       0.0       0.0       0.0       0.0       0.0   \n",
      "6445       0.0  ...       0.0       0.0       0.0       0.0       0.0   \n",
      "42327      0.0  ...       0.0       0.0       0.0       0.0       0.0   \n",
      "47710      0.0  ...       0.0       0.0       0.0       0.0       0.0   \n",
      "\n",
      "       pixel781  pixel782  pixel783  pixel784  yanswer  \n",
      "20257       0.0       0.0       0.0       0.0        2  \n",
      "48332       0.0       0.0       0.0       0.0        2  \n",
      "2085        0.0       0.0       0.0       0.0        2  \n",
      "13406       0.0       0.0       0.0       0.0        2  \n",
      "39440       0.0       0.0       0.0       0.0        6  \n",
      "...         ...       ...       ...       ...      ...  \n",
      "658         0.0       0.0       0.0       0.0        6  \n",
      "4980        0.0       0.0       0.0       0.0        6  \n",
      "6445        0.0       0.0       0.0       0.0        2  \n",
      "42327       0.0       0.0       0.0       0.0        2  \n",
      "47710       0.0       0.0       0.0       0.0        2  \n",
      "\n",
      "[11092 rows x 785 columns]\n",
      "       pixel1  pixel2  pixel3  pixel4  pixel5  pixel6  pixel7  pixel8  pixel9  \\\n",
      "7516      0.0     0.0     0.0     0.0     0.0     0.0     0.0     0.0     0.0   \n",
      "2855      0.0     0.0     0.0     0.0     0.0     0.0     0.0     0.0     0.0   \n",
      "60646     0.0     0.0     0.0     0.0     0.0     0.0     0.0     0.0     0.0   \n",
      "60996     0.0     0.0     0.0     0.0     0.0     0.0     0.0     0.0     0.0   \n",
      "18670     0.0     0.0     0.0     0.0     0.0     0.0     0.0     0.0     0.0   \n",
      "...       ...     ...     ...     ...     ...     ...     ...     ...     ...   \n",
      "34963     0.0     0.0     0.0     0.0     0.0     0.0     0.0     0.0     0.0   \n",
      "46074     0.0     0.0     0.0     0.0     0.0     0.0     0.0     0.0     0.0   \n",
      "10440     0.0     0.0     0.0     0.0     0.0     0.0     0.0     0.0     0.0   \n",
      "10076     0.0     0.0     0.0     0.0     0.0     0.0     0.0     0.0     0.0   \n",
      "52188     0.0     0.0     0.0     0.0     0.0     0.0     0.0     0.0     0.0   \n",
      "\n",
      "       pixel10  ...  pixel776  pixel777  pixel778  pixel779  pixel780  \\\n",
      "7516       0.0  ...       0.0       0.0       0.0       0.0       0.0   \n",
      "2855       0.0  ...       0.0       0.0       0.0       0.0       0.0   \n",
      "60646      0.0  ...       0.0       0.0       0.0       0.0       0.0   \n",
      "60996      0.0  ...       0.0       0.0       0.0       0.0       0.0   \n",
      "18670      0.0  ...       0.0       0.0       0.0       0.0       0.0   \n",
      "...        ...  ...       ...       ...       ...       ...       ...   \n",
      "34963      0.0  ...       0.0       0.0       0.0       0.0       0.0   \n",
      "46074      0.0  ...       0.0       0.0       0.0       0.0       0.0   \n",
      "10440      0.0  ...       0.0       0.0       0.0       0.0       0.0   \n",
      "10076      0.0  ...       0.0       0.0       0.0       0.0       0.0   \n",
      "52188      0.0  ...       0.0       0.0       0.0       0.0       0.0   \n",
      "\n",
      "       pixel781  pixel782  pixel783  pixel784  yanswer  \n",
      "7516        0.0       0.0       0.0       0.0        6  \n",
      "2855        0.0       0.0       0.0       0.0        2  \n",
      "60646       0.0       0.0       0.0       0.0        2  \n",
      "60996       0.0       0.0       0.0       0.0        2  \n",
      "18670       0.0       0.0       0.0       0.0        6  \n",
      "...         ...       ...       ...       ...      ...  \n",
      "34963       0.0       0.0       0.0       0.0        6  \n",
      "46074       0.0       0.0       0.0       0.0        6  \n",
      "10440       0.0       0.0       0.0       0.0        6  \n",
      "10076       0.0       0.0       0.0       0.0        6  \n",
      "52188       0.0       0.0       0.0       0.0        2  \n",
      "\n",
      "[2774 rows x 785 columns]\n"
     ]
    }
   ],
   "source": [
    "print(train_set)\n",
    "print(test_set)"
   ]
  },
  {
   "cell_type": "code",
   "execution_count": 19,
   "id": "a824eac3",
   "metadata": {},
   "outputs": [
    {
     "name": "stdout",
     "output_type": "stream",
     "text": [
      "8707220\n",
      "(11092, 785)\n",
      "2177590\n",
      "(2774, 785)\n"
     ]
    }
   ],
   "source": [
    "print(train_set.size)\n",
    "print(train_set.shape)\n",
    "print(test_set.size)\n",
    "print(test_set.shape)"
   ]
  },
  {
   "cell_type": "code",
   "execution_count": 20,
   "id": "38f39369",
   "metadata": {},
   "outputs": [],
   "source": [
    "train_set, validation_set = train_test_split(train_set, test_size = 0.2)"
   ]
  },
  {
   "cell_type": "code",
   "execution_count": 21,
   "id": "2ce8e2ab",
   "metadata": {},
   "outputs": [
    {
     "name": "stdout",
     "output_type": "stream",
     "text": [
      "1741915\n",
      "(2219, 785)\n"
     ]
    }
   ],
   "source": [
    "print(validation_set.size)\n",
    "print(validation_set.shape)"
   ]
  },
  {
   "cell_type": "code",
   "execution_count": 22,
   "id": "1e07c7f8",
   "metadata": {},
   "outputs": [
    {
     "name": "stdout",
     "output_type": "stream",
     "text": [
      "6965305\n",
      "(8873, 785)\n"
     ]
    }
   ],
   "source": [
    "print(train_set.size)\n",
    "print(train_set.shape)"
   ]
  },
  {
   "cell_type": "code",
   "execution_count": 23,
   "id": "d3b1ab44",
   "metadata": {},
   "outputs": [
    {
     "name": "stdout",
     "output_type": "stream",
     "text": [
      "yanswer_train 30534    2\n",
      "57669    2\n",
      "65085    6\n",
      "47302    2\n",
      "62286    6\n",
      "        ..\n",
      "62677    6\n",
      "7082     2\n",
      "23198    6\n",
      "8792     6\n",
      "9757     2\n",
      "Name: yanswer, Length: 8873, dtype: category\n",
      "Categories (10, object): ['0', '1', '2', '3', ..., '6', '7', '8', '9']\n",
      "train_set        pixel1  pixel2  pixel3  pixel4  pixel5  pixel6  pixel7  pixel8  pixel9  \\\n",
      "30534     0.0     0.0     0.0     0.0     0.0     0.0     0.0     0.0     0.0   \n",
      "57669     0.0     0.0     0.0     0.0     0.0     0.0     0.0     0.0     0.0   \n",
      "65085     0.0     0.0     0.0     0.0     0.0     0.0     0.0     0.0     0.0   \n",
      "47302     0.0     0.0     0.0     0.0     0.0     0.0     0.0     0.0     0.0   \n",
      "62286     0.0     0.0     0.0     0.0     0.0     0.0     0.0     0.0     0.0   \n",
      "...       ...     ...     ...     ...     ...     ...     ...     ...     ...   \n",
      "62677     0.0     0.0     0.0     0.0     0.0     0.0     0.0     0.0     0.0   \n",
      "7082      0.0     0.0     0.0     0.0     0.0     0.0     0.0     0.0     0.0   \n",
      "23198     0.0     0.0     0.0     0.0     0.0     0.0     0.0     0.0     0.0   \n",
      "8792      0.0     0.0     0.0     0.0     0.0     0.0     0.0     0.0     0.0   \n",
      "9757      0.0     0.0     0.0     0.0     0.0     0.0     0.0     0.0     0.0   \n",
      "\n",
      "       pixel10  ...  pixel776  pixel777  pixel778  pixel779  pixel780  \\\n",
      "30534      0.0  ...       0.0       0.0       0.0       0.0       0.0   \n",
      "57669      0.0  ...       0.0       0.0       0.0       0.0       0.0   \n",
      "65085      0.0  ...       0.0       0.0       0.0       0.0       0.0   \n",
      "47302      0.0  ...       0.0       0.0       0.0       0.0       0.0   \n",
      "62286      0.0  ...       0.0       0.0       0.0       0.0       0.0   \n",
      "...        ...  ...       ...       ...       ...       ...       ...   \n",
      "62677      0.0  ...       0.0       0.0       0.0       0.0       0.0   \n",
      "7082       0.0  ...       0.0       0.0       0.0       0.0       0.0   \n",
      "23198      0.0  ...       0.0       0.0       0.0       0.0       0.0   \n",
      "8792       0.0  ...       0.0       0.0       0.0       0.0       0.0   \n",
      "9757       0.0  ...       0.0       0.0       0.0       0.0       0.0   \n",
      "\n",
      "       pixel781  pixel782  pixel783  pixel784  yanswer  \n",
      "30534       0.0       0.0       0.0       0.0        2  \n",
      "57669       0.0       0.0       0.0       0.0        2  \n",
      "65085       0.0       0.0       0.0       0.0        6  \n",
      "47302       0.0       0.0       0.0       0.0        2  \n",
      "62286       0.0       0.0       0.0       0.0        6  \n",
      "...         ...       ...       ...       ...      ...  \n",
      "62677       0.0       0.0       0.0       0.0        6  \n",
      "7082        0.0       0.0       0.0       0.0        2  \n",
      "23198       0.0       0.0       0.0       0.0        6  \n",
      "8792        0.0       0.0       0.0       0.0        6  \n",
      "9757        0.0       0.0       0.0       0.0        2  \n",
      "\n",
      "[8873 rows x 785 columns]\n",
      "       pixel1  pixel2  pixel3  pixel4  pixel5  pixel6  pixel7  pixel8  pixel9  \\\n",
      "30534     0.0     0.0     0.0     0.0     0.0     0.0     0.0     0.0     0.0   \n",
      "57669     0.0     0.0     0.0     0.0     0.0     0.0     0.0     0.0     0.0   \n",
      "65085     0.0     0.0     0.0     0.0     0.0     0.0     0.0     0.0     0.0   \n",
      "47302     0.0     0.0     0.0     0.0     0.0     0.0     0.0     0.0     0.0   \n",
      "62286     0.0     0.0     0.0     0.0     0.0     0.0     0.0     0.0     0.0   \n",
      "...       ...     ...     ...     ...     ...     ...     ...     ...     ...   \n",
      "62677     0.0     0.0     0.0     0.0     0.0     0.0     0.0     0.0     0.0   \n",
      "7082      0.0     0.0     0.0     0.0     0.0     0.0     0.0     0.0     0.0   \n",
      "23198     0.0     0.0     0.0     0.0     0.0     0.0     0.0     0.0     0.0   \n",
      "8792      0.0     0.0     0.0     0.0     0.0     0.0     0.0     0.0     0.0   \n",
      "9757      0.0     0.0     0.0     0.0     0.0     0.0     0.0     0.0     0.0   \n",
      "\n",
      "       pixel10  ...  pixel776  pixel777  pixel778  pixel779  pixel780  \\\n",
      "30534      0.0  ...       0.0       0.0       0.0       0.0       0.0   \n",
      "57669      0.0  ...       0.0       0.0       0.0       0.0       0.0   \n",
      "65085      0.0  ...       0.0       0.0       0.0       0.0       0.0   \n",
      "47302      0.0  ...       0.0       0.0       0.0       0.0       0.0   \n",
      "62286      0.0  ...       0.0       0.0       0.0       0.0       0.0   \n",
      "...        ...  ...       ...       ...       ...       ...       ...   \n",
      "62677      0.0  ...       0.0       0.0       0.0       0.0       0.0   \n",
      "7082       0.0  ...       0.0       0.0       0.0       0.0       0.0   \n",
      "23198      0.0  ...       0.0       0.0       0.0       0.0       0.0   \n",
      "8792       0.0  ...       0.0       0.0       0.0       0.0       0.0   \n",
      "9757       0.0  ...       0.0       0.0       0.0       0.0       0.0   \n",
      "\n",
      "       pixel781  pixel782  pixel783  pixel784  yanswer  \n",
      "30534       0.0       0.0       0.0       0.0        2  \n",
      "57669       0.0       0.0       0.0       0.0        2  \n",
      "65085       0.0       0.0       0.0       0.0        6  \n",
      "47302       0.0       0.0       0.0       0.0        2  \n",
      "62286       0.0       0.0       0.0       0.0        6  \n",
      "...         ...       ...       ...       ...      ...  \n",
      "62677       0.0       0.0       0.0       0.0        6  \n",
      "7082        0.0       0.0       0.0       0.0        2  \n",
      "23198       0.0       0.0       0.0       0.0        6  \n",
      "8792        0.0       0.0       0.0       0.0        6  \n",
      "9757        0.0       0.0       0.0       0.0        2  \n",
      "\n",
      "[8873 rows x 785 columns]\n"
     ]
    },
    {
     "name": "stderr",
     "output_type": "stream",
     "text": [
      "/Users/mayatang/opt/anaconda3/envs/scikitlearn_env/lib/python3.7/site-packages/sklearn/svm/_base.py:1208: ConvergenceWarning: Liblinear failed to converge, increase the number of iterations.\n",
      "  ConvergenceWarning,\n"
     ]
    }
   ],
   "source": [
    "import numpy as np\n",
    "from sklearn import datasets\n",
    "from sklearn.pipeline import Pipeline\n",
    "from sklearn.preprocessing import StandardScaler\n",
    "from sklearn.svm import LinearSVC\n",
    "\n",
    "\n",
    "\n",
    "yanswer_train = train_set['yanswer']\n",
    "print(\"yanswer_train\", yanswer_train)\n",
    "print(\"train_set\", train_set) #separated year\n",
    "Xpictures_train = train_set.drop([\"yanswer\"], axis = 1)\n",
    "\n",
    "svm_clf = Pipeline([(\"scaler\", StandardScaler()), (\"linear_svc\", LinearSVC(C = 1, loss = \"hinge\", max_iter = 5000))])\n",
    "svm_clf.fit(Xpictures_train,yanswer_train)\n",
    "\n",
    "\n",
    "print(train_set)"
   ]
  },
  {
   "cell_type": "code",
   "execution_count": 24,
   "id": "d80e107f",
   "metadata": {
    "scrolled": true
   },
   "outputs": [
    {
     "name": "stdout",
     "output_type": "stream",
     "text": [
      "       pixel1  pixel2  pixel3  pixel4  pixel5  pixel6  pixel7  pixel8  pixel9  \\\n",
      "30534     0.0     0.0     0.0     0.0     0.0     0.0     0.0     0.0     0.0   \n",
      "57669     0.0     0.0     0.0     0.0     0.0     0.0     0.0     0.0     0.0   \n",
      "65085     0.0     0.0     0.0     0.0     0.0     0.0     0.0     0.0     0.0   \n",
      "47302     0.0     0.0     0.0     0.0     0.0     0.0     0.0     0.0     0.0   \n",
      "62286     0.0     0.0     0.0     0.0     0.0     0.0     0.0     0.0     0.0   \n",
      "...       ...     ...     ...     ...     ...     ...     ...     ...     ...   \n",
      "62677     0.0     0.0     0.0     0.0     0.0     0.0     0.0     0.0     0.0   \n",
      "7082      0.0     0.0     0.0     0.0     0.0     0.0     0.0     0.0     0.0   \n",
      "23198     0.0     0.0     0.0     0.0     0.0     0.0     0.0     0.0     0.0   \n",
      "8792      0.0     0.0     0.0     0.0     0.0     0.0     0.0     0.0     0.0   \n",
      "9757      0.0     0.0     0.0     0.0     0.0     0.0     0.0     0.0     0.0   \n",
      "\n",
      "       pixel10  ...  pixel776  pixel777  pixel778  pixel779  pixel780  \\\n",
      "30534      0.0  ...       0.0       0.0       0.0       0.0       0.0   \n",
      "57669      0.0  ...       0.0       0.0       0.0       0.0       0.0   \n",
      "65085      0.0  ...       0.0       0.0       0.0       0.0       0.0   \n",
      "47302      0.0  ...       0.0       0.0       0.0       0.0       0.0   \n",
      "62286      0.0  ...       0.0       0.0       0.0       0.0       0.0   \n",
      "...        ...  ...       ...       ...       ...       ...       ...   \n",
      "62677      0.0  ...       0.0       0.0       0.0       0.0       0.0   \n",
      "7082       0.0  ...       0.0       0.0       0.0       0.0       0.0   \n",
      "23198      0.0  ...       0.0       0.0       0.0       0.0       0.0   \n",
      "8792       0.0  ...       0.0       0.0       0.0       0.0       0.0   \n",
      "9757       0.0  ...       0.0       0.0       0.0       0.0       0.0   \n",
      "\n",
      "       pixel781  pixel782  pixel783  pixel784  yanswer  \n",
      "30534       0.0       0.0       0.0       0.0        2  \n",
      "57669       0.0       0.0       0.0       0.0        2  \n",
      "65085       0.0       0.0       0.0       0.0        6  \n",
      "47302       0.0       0.0       0.0       0.0        2  \n",
      "62286       0.0       0.0       0.0       0.0        6  \n",
      "...         ...       ...       ...       ...      ...  \n",
      "62677       0.0       0.0       0.0       0.0        6  \n",
      "7082        0.0       0.0       0.0       0.0        2  \n",
      "23198       0.0       0.0       0.0       0.0        6  \n",
      "8792        0.0       0.0       0.0       0.0        6  \n",
      "9757        0.0       0.0       0.0       0.0        2  \n",
      "\n",
      "[8873 rows x 785 columns]\n"
     ]
    }
   ],
   "source": [
    "print(train_set)"
   ]
  },
  {
   "cell_type": "code",
   "execution_count": 45,
   "id": "93dc5e23",
   "metadata": {},
   "outputs": [
    {
     "name": "stdout",
     "output_type": "stream",
     "text": [
      "[ -4.40901847  -9.93818068  10.66859532 ...   4.49435422   8.88653119\n",
      " -11.93166656]\n"
     ]
    }
   ],
   "source": [
    "y_scores_train = svm_clf.decision_function(Xpictures_train)\n",
    "print(y_scores_train)\n",
    "\n",
    "#decision function returns score for each instance, use threshold function to make predictions based on scores\n",
    "#threshold = 0 (by default)\n",
    "#negative answers = wrong, positive answers = correct\n"
   ]
  },
  {
   "cell_type": "code",
   "execution_count": null,
   "id": "64a30afc",
   "metadata": {},
   "outputs": [],
   "source": []
  },
  {
   "cell_type": "code",
   "execution_count": 46,
   "id": "6e395d19",
   "metadata": {},
   "outputs": [
    {
     "data": {
      "image/png": "[encoded data removed]",
      "text/plain": [
       "<Figure size 432x288 with 1 Axes>"
      ]
     },
     "metadata": {
      "needs_background": "light"
     },
     "output_type": "display_data"
    }
   ],
   "source": [
    "from sklearn.metrics import roc_curve\n",
    "from matplotlib import pyplot as plt\n",
    "fpr, tpr, thresholds = roc_curve(yanswer_train, y_scores_train, pos_label = \"6\") #positive answers are 6's\n",
    "#here we ran the roc curve function which gave us the fpr and tpr -- false positive rate and true + rate\n",
    "\n",
    "\n",
    "def plot_roc_curve(fpr, tpr, label=None):\n",
    "    plt.plot(fpr, tpr, linewidth=2, label=label) #plotted actual data\n",
    "    plt.plot([0,1],[0,1],'k--') #plotted the dotted line (50/50 guess every time)\n",
    "    #made the plot roc curve which draws the graph\n",
    "    \n",
    "plot_roc_curve(fpr,tpr)\n",
    "plt.show()\n",
    "#calling function, showing the graph"
   ]
  },
  {
   "cell_type": "code",
   "execution_count": 49,
   "id": "f0a373a5",
   "metadata": {},
   "outputs": [
    {
     "data": {
      "text/plain": [
       "1.0"
      ]
     },
     "execution_count": 49,
     "metadata": {},
     "output_type": "execute_result"
    }
   ],
   "source": [
    "from sklearn.metrics import roc_auc_score\n",
    "roc_auc_score(yanswer_train, y_scores_train)\n",
    "#this measures the area under the curve and 1 means it is perfect -- always correct -- which is overfitting"
   ]
  },
  {
   "cell_type": "code",
   "execution_count": 50,
   "id": "6311d03f",
   "metadata": {},
   "outputs": [
    {
     "name": "stdout",
     "output_type": "stream",
     "text": [
      "[  0.07354259   3.17844923  -8.13101603 ...   8.82938605   6.22380735\n",
      " -13.26474026]\n"
     ]
    },
    {
     "data": {
      "text/plain": [
       "0.9957557373781842"
      ]
     },
     "execution_count": 50,
     "metadata": {},
     "output_type": "execute_result"
    }
   ],
   "source": [
    "#using the test data\n",
    "Xpictures_test = test_set.drop([\"yanswer\"], axis = 1)\n",
    "yanswer_test = test_set['yanswer']\n",
    "y_scores_test = svm_clf.decision_function(Xpictures_test)\n",
    "print(y_scores_test)\n",
    "\n",
    "from sklearn.metrics import roc_auc_score\n",
    "roc_auc_score(yanswer_test, y_scores_test)\n",
    "\n",
    "#model is overfitting but it is still doing pretty good on the test data"
   ]
  },
  {
   "cell_type": "code",
   "execution_count": null,
   "id": "7894c365",
   "metadata": {},
   "outputs": [],
   "source": []
  }
 ],
 "metadata": {
  "kernelspec": {
   "display_name": "Python (scikitlearn_env)",
   "language": "python",
   "name": "scikitlearn_env"
  },
  "language_info": {
   "codemirror_mode": {
    "name": "ipython",
    "version": 3
   },
   "file_extension": ".py",
   "mimetype": "text/x-python",
   "name": "python",
   "nbconvert_exporter": "python",
   "pygments_lexer": "ipython3",
   "version": "3.7.11"
  }
 },
 "nbformat": 4,
 "nbformat_minor": 5
}
